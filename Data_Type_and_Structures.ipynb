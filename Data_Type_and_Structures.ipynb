{
  "nbformat": 4,
  "nbformat_minor": 0,
  "metadata": {
    "colab": {
      "provenance": []
    },
    "kernelspec": {
      "name": "python3",
      "display_name": "Python 3"
    },
    "language_info": {
      "name": "python"
    }
  },
  "cells": [
    {
      "cell_type": "markdown",
      "source": [
        "#DATA TYPES AND STRUCTURES"
      ],
      "metadata": {
        "id": "by282TUUAlv2"
      }
    },
    {
      "cell_type": "markdown",
      "source": [
        "Q.1 What are data structures, and why are they important?\n",
        "\n",
        "  - Data structures are ways to organize and store data in a program so that it can be efficiently accessed and modified. It is also used for processing, retrieving and storing data. They are essential in programming because they enable developers to manage large amounts of data, improve code efficiency, reusability of data, and solve complex problems.\n",
        "\n",
        "Q.2 Explain the difference between mutable and immutable data types with examples.\n",
        "\n",
        "  - Mutable data types can be modified after creation, while immutable data types cannot. Examples:\n",
        "  - Mutable: Lists [1, 2, 3], dictionaries {“a”: 1}, sets {1, 2, 3}\n",
        "  - Immutable: Strings ”hello”, tuples (1, 2, 3), integers 5\n",
        "\n",
        "Q.3 What are the main differences between lists and tuples in Python?\n",
        "\n",
        "  - Lists are mutable, while tuples are immutable.\n",
        "  - Lists are defined using square brackets `[]`, while tuples are defined using parentheses `()`.\n",
        "  - Lists can be modified after creation, while tuples cannot.\n",
        "\n",
        "Q.4 Describe how dictionaries store data.\n",
        "\n",
        "  - Dictionaries store data as key-value pairs, where each key is unique and maps to a specific value. The data is stored in a hash table, allowing for efficient lookups and insertions.\n",
        "\n",
        "  Example:-\n",
        "\n",
        "  Dictionaries:\n",
        "  {'city':'delhi'}\n",
        "\n",
        "Q.5 Why might you use a set instead of a list in Python?\n",
        "\n",
        "  - Use a set when we need to store a collection of unique elements, and we don’t care about the order. Sets provide fast membership testing, with an average time complexity of O(1). Sets automatically eliminate duplicates, making them suitable for storing unique elements and are useful for different operations like union, intersection, and difference.\n",
        "\n",
        "Q.6 What is a string in Python, and how is it different from a list?\n",
        "\n",
        "  - A string in python is a sequence of characters, such as letters, numbers, or symbols, enclosed in quotes (single, double, or triple quotes). while a list can store any data type, including strings, integers. Strings are immutable, while lists are mutable.\n",
        "\n",
        "Q.7 How do tuples ensure data integrity in Python?\n",
        "\n",
        "  - Tuples ensure data integrity by being immutable, which means their contents cannot be modified after creation. This makes tuples useful for representing constant data or data that should not be changed.\n",
        "\n",
        "Q.8 What is a hash table, and how does it relate to dictionaries in Python?\n",
        "\n",
        "  - A hash table (also known as a hash map) is a data structure that stores key-value pairs in an array using a hash function to map keys to indices.\n",
        "\n",
        "  Key Components\n",
        "    1. Keys: Unique identifiers for the data being stored.\n",
        "    2. Values: The data being stored.\n",
        "    3. Hash function: A function that takes a key and generates a hash code, which is used to determine the index in the array.\n",
        "    4. Array: The underlying data structure that stores the key-value pairs.\n",
        "  \n",
        "  In Python, dictionaries are implemented as hash tables, allowing for fast lookups, with an average time complexity of O(1), efficient insertions, and deletions.\n",
        "\n",
        "Q.9 Can lists contain different data types in Python?\n",
        "\n",
        "  - Yes, lists can contain different data types in Python.\n",
        "  For example: `[1, “hello”, 3.14, True]`\n",
        "  Here list contains integer, String, Float as well as Boolean also.\n",
        "\n",
        "Q.10 Explain why strings are immutable in Python.\n",
        "\n",
        "  - The immutability of strings in Python is due to several reasons:  \n",
        "    1. Security: Immutability ensures that strings cannot be modified maliciously, which is particularly important when working with sensitive data.\n",
        "    2. Thread safety: Immutable strings are thread-safe, allowing multiple threads to access the same string without fear of modification.\n",
        "    3. Hashability: Immutable strings can be used as dictionary keys, which is essential for efficient data retrieval.\n",
        "    4. Memory efficiency: Python can optimize memory usage by reusing immutable strings, reducing memory allocation and deallocation overhead.\n",
        "\n",
        "Q.11 What advantages do dictionaries after over lists for certain tasks?\n",
        "\n",
        "  - Dictionaries offer fast lookups, insertions, and deletions, making them suitable for tasks that require efficient data retrieval and manipulation. They also provide a more intuitive way to represent data with meaningful keys.\n",
        "\n",
        "  Advantages\n",
        "    1. Fast lookups: Dictionaries provide fast lookups, with an average time complexity of O(1).\n",
        "    2. Key-based access: Dictionaries allow to access values using meaningful keys, making the code more readable and intuitive.\n",
        "    3. Flexible data structure: Dictionaries can store a wide range of data types, including strings, integers, floats, and other dictionaries.\n",
        "    4. Efficient data retrieval: Dictionaries are optimized for fast data retrieval, making them suitable for applications where data needs to be accessed quickly.\n",
        "\n",
        "Q.12 Describe a scenario where using a tuple would be preferable over a list.\n",
        "\n",
        "  - Using a tuple would be preferable when representing a collection of constant data that should not be changed, such as developing a calander application and we need to represent days of the week or months of the year. Here using a tuple is preferable because the days of the week don't change, making a tuple a suitable choice. Using a tuple ensures that the days of the week remain unchanged throughout the application.\n",
        "\n",
        "Q.13 How do sets handle duplicate values in Python?\n",
        "\n",
        "  - Sets automatically eliminate duplicate values, ensuring that each element is unique. When we try to add a duplicate value to a set, it will be ignored.\n",
        "\n",
        "  Example\n",
        "\n",
        "    my_set = {1, 2, 2, 3, 3, 3}\n",
        "    \n",
        "    print(my_set)  \n",
        "    #### Output: {1, 2, 3}\n",
        "\n",
        "  Using sets to eliminate duplicates provides several benefits:\n",
        "\n",
        "    1. Efficient: Sets use a hash table internally, making duplicate elimination efficient.\n",
        "    2. Convenient: Sets provide a simple way to work with unique elements.\n",
        "\n",
        "Q.14 How does the \"in\" keyword work differently for lists and dictionaries?\n",
        "\n",
        "  - For lists, the `in` keyword checks if an element is present in the list. For dictionaries, the `in` keyword checks if a key is present in the dictionary.\n",
        "\n",
        "Q.15 Can you modify the elements of a tuple? Explain why or why not.\n",
        "\n",
        "  - No, we cannot modify the elements of a tuple because tuples are immutable, meaning their contents cannot be changed after creation. This is because tuples are designed to be:\n",
        "\n",
        "    1. Immutable: Tuples are meant to be constant and unchanging.\n",
        "    2. Hashable: Tuples can be used as dictionary keys because of their immutability.\n",
        "  \n",
        "  Attempting to modify a tuple will raise a `TypeError`.\n",
        "\n",
        "Q.16 what is a nested dictionary, and give an example of its use case?\n",
        "\n",
        "  - A nested dictionary is a dictionary that contains another dictionary as a value. Example: `{“person”: {“name”: “John”, “age”: 30}}`. Use case: Representing complex data structures, such as a person’s details.\n",
        "\n",
        "Q.17 Describe the time complexity of accessing elements in a dictionary.\n",
        "\n",
        "  - The time complexity of accessing elements in a dictionary is O(1) on average, making dictionaries suitable for fast lookups. Also known as constant time complexity.\n",
        "\n",
        "  Dictionaries use a data structure called a hash table, which allows for fast lookups. Here's why:\n",
        "\n",
        "    1. Hash function: When we insert a key-value pair, the dictionary uses a hash function to map the key to a specific index in the hash table.\n",
        "    2. Direct access: When we access a value by its key, the dictionary uses the same hash function to calculate the index and retrieve the value directly.\n",
        "\n",
        "  Average Case vs Worst Case\n",
        "  While the average time complexity is O(1), the worst-case scenario can be O(n), where n is the number of key-value pairs. This can occur when:\n",
        "\n",
        "    1. Hash collisions: Multiple keys hash to the same index, leading to a collision.\n",
        "    2. Poor hash function: A poorly designed hash function can lead to frequent collisions.\n",
        "\n",
        "Q.18 In what situations are lists preferred over dictionaries?\n",
        "\n",
        "  - Lists are preferred when we need to store a collection of elements that need to be accessed by index or when the order of elements matters.\n",
        "\n",
        "  Choosing between lists and dictionaries\n",
        "    1. Use lists when to store a collection of elements that need to be accessed by index. When The order of elements matters.\n",
        "    2. Use dictionaries when to store key-value pairs and access values by their corresponding keys. When fast lookups, insertions, and deletions are required.\n",
        "\n",
        "Q.19 Why are dictionaries considered unordered, and how does that affect data retrieval?\n",
        "\n",
        "  - Dictionaries are considered unordered because the order of key-value pairs is not guaranteed and iterating over a dictionary could yield different results each time.\n",
        "\n",
        "  The unordered nature of dictionaries affected data retrieval in the following ways:\n",
        "\n",
        "    1. No guaranteed order: When iterating over a dictionary, we couldn't rely on a specific order of key-value pairs.\n",
        "    2. Index-based access not possible: we couldn't access dictionary elements by index, as the order was not fixed.\n",
        "\n",
        "\n",
        "Q.20 Explain the difference between a list and a dictionary in terms of data retrieval.\n",
        "\n",
        "  - Lists\n",
        "      1. Index-based access: Lists are indexed, meaning we can access elements by their position (index).\n",
        "      2. Ordered data: Lists maintain the order of elements.\n",
        "      3. Access by index: Use the index to retrieve a specific element, e.g., my_list[0].\n",
        "\n",
        "  - Dictionaries\n",
        "      1. Key-based access: Dictionaries are key-value pairs, and we access values by their corresponding keys.\n",
        "      2. Unordered data : Dictionaries did not maintain a specific order.\n",
        "      3. Access by key: Use the key to retrieve a specific value, e.g., my_dict[\"name\"]."
      ],
      "metadata": {
        "id": "r1KODB8mA4Ny"
      }
    },
    {
      "cell_type": "code",
      "execution_count": null,
      "metadata": {
        "colab": {
          "base_uri": "https://localhost:8080/"
        },
        "id": "BJtqphqP-OGS",
        "outputId": "5e492ce7-26c9-426b-c488-b5196e36bc16"
      },
      "outputs": [
        {
          "output_type": "stream",
          "name": "stdout",
          "text": [
            "Enter your name: Sandeep\n",
            "Sandeep\n"
          ]
        }
      ],
      "source": [
        "# Q.1 Write a code to create a string with you name and print it.\n",
        "name = input(\"Enter your name: \")\n",
        "print(name)"
      ]
    },
    {
      "cell_type": "code",
      "source": [
        "# Q.2 Write a code to find the length of the string \"Hello World\".\n",
        "a = \"Hello World\"\n",
        "print(len(a))"
      ],
      "metadata": {
        "colab": {
          "base_uri": "https://localhost:8080/"
        },
        "id": "U6yiIkfKEjZv",
        "outputId": "2a686d2e-d0ca-4823-8779-9f861b8e7c7c"
      },
      "execution_count": null,
      "outputs": [
        {
          "output_type": "stream",
          "name": "stdout",
          "text": [
            "11\n"
          ]
        }
      ]
    },
    {
      "cell_type": "code",
      "source": [
        "# Q.3 Write a code to slice the first 3 characters from the string \"Python Programming\".\n",
        "a = \"Python Programming\"\n",
        "print(a[0:3])"
      ],
      "metadata": {
        "colab": {
          "base_uri": "https://localhost:8080/"
        },
        "id": "EEDJY-lPFUoX",
        "outputId": "93b0014d-f7c0-42a7-898c-ba1e539d8e55"
      },
      "execution_count": null,
      "outputs": [
        {
          "output_type": "stream",
          "name": "stdout",
          "text": [
            "Pyt\n"
          ]
        }
      ]
    },
    {
      "cell_type": "code",
      "source": [
        "# Q.4 Write a code to convert the string \"hello\" to uppercase.\n",
        "a = \"hello\"\n",
        "print(a.upper())"
      ],
      "metadata": {
        "colab": {
          "base_uri": "https://localhost:8080/"
        },
        "id": "ETHzFF95Fm_i",
        "outputId": "9619e319-399c-4d4e-afb3-e359bb8b74ce"
      },
      "execution_count": null,
      "outputs": [
        {
          "output_type": "stream",
          "name": "stdout",
          "text": [
            "HELLO\n"
          ]
        }
      ]
    },
    {
      "cell_type": "code",
      "source": [
        "# Q.5 Write a code to replace the word \"apple\" with \"orange\" in the string \"I like apple\".\n",
        "a = \"I like apple\"\n",
        "print(a.replace(\"apple\", \"orange\"))"
      ],
      "metadata": {
        "colab": {
          "base_uri": "https://localhost:8080/"
        },
        "id": "jeeAPnCdGChQ",
        "outputId": "7620366a-a144-4eb6-ef60-d760d9cdd0d0"
      },
      "execution_count": null,
      "outputs": [
        {
          "output_type": "stream",
          "name": "stdout",
          "text": [
            "I like orange\n"
          ]
        }
      ]
    },
    {
      "cell_type": "code",
      "source": [
        "# Q.6 Write a code to create a list with numbers 1 to 5 and print it.\n",
        "a = [1, 2, 3, 4, 5]\n",
        "print(a)"
      ],
      "metadata": {
        "colab": {
          "base_uri": "https://localhost:8080/"
        },
        "id": "63IxflQFGV-T",
        "outputId": "fb9d263d-0a8b-4202-8824-d4616028bda6"
      },
      "execution_count": null,
      "outputs": [
        {
          "output_type": "stream",
          "name": "stdout",
          "text": [
            "[1, 2, 3, 4, 5]\n"
          ]
        }
      ]
    },
    {
      "cell_type": "code",
      "source": [
        "# Q.7 Write a code to append the number 10 to the list [1, 2, 3, 4].\n",
        "a = [1, 2, 3, 4]\n",
        "a.append(10)\n",
        "print(a)"
      ],
      "metadata": {
        "colab": {
          "base_uri": "https://localhost:8080/"
        },
        "id": "BNkOgUSeGlEV",
        "outputId": "195039d9-8c02-456c-e041-fcf9a8497b06"
      },
      "execution_count": null,
      "outputs": [
        {
          "output_type": "stream",
          "name": "stdout",
          "text": [
            "[1, 2, 3, 4, 10]\n"
          ]
        }
      ]
    },
    {
      "cell_type": "code",
      "source": [
        "# Q.8 Write a code to remove the number 3 from the list [1, 2, 3, 4, 5].\n",
        "a = [1, 2, 3, 4, 5]\n",
        "a.remove(3)\n",
        "print(a)"
      ],
      "metadata": {
        "colab": {
          "base_uri": "https://localhost:8080/"
        },
        "id": "lpCp3a-8G1E5",
        "outputId": "57ed0a04-afc3-4f45-c51e-5e235b28d27f"
      },
      "execution_count": null,
      "outputs": [
        {
          "output_type": "stream",
          "name": "stdout",
          "text": [
            "[1, 2, 4, 5]\n"
          ]
        }
      ]
    },
    {
      "cell_type": "code",
      "source": [
        "# Q.9 Write a code to access the second element in the list ['a', 'b', 'c', 'd'].\n",
        "a = ['a', 'b', 'c', 'd']\n",
        "print(a[1])"
      ],
      "metadata": {
        "colab": {
          "base_uri": "https://localhost:8080/"
        },
        "id": "UvkulFLFHFtQ",
        "outputId": "819a4cb4-dcdd-4291-eb97-adb178cecea4"
      },
      "execution_count": null,
      "outputs": [
        {
          "output_type": "stream",
          "name": "stdout",
          "text": [
            "b\n"
          ]
        }
      ]
    },
    {
      "cell_type": "code",
      "source": [
        "# Q.10 Write a code to reverse the list [10, 20, 30, 40, 50].\n",
        "a = [10, 20, 30, 40, 50]\n",
        "a.reverse()\n",
        "print(a)"
      ],
      "metadata": {
        "colab": {
          "base_uri": "https://localhost:8080/"
        },
        "id": "2j_wFl-4HVhn",
        "outputId": "876c2bfa-61e1-4c21-a39b-7aee7a0b142b"
      },
      "execution_count": null,
      "outputs": [
        {
          "output_type": "stream",
          "name": "stdout",
          "text": [
            "[50, 40, 30, 20, 10]\n"
          ]
        }
      ]
    },
    {
      "cell_type": "code",
      "source": [
        "# Q.11 Write a code to create a tuple with the elements 100, 200, 300 and print it.\n",
        "a = (100, 200, 300)\n",
        "print(a)"
      ],
      "metadata": {
        "colab": {
          "base_uri": "https://localhost:8080/"
        },
        "id": "i02aM2GvHnsK",
        "outputId": "89377673-9c20-4c0b-afbd-31a993af53cb"
      },
      "execution_count": null,
      "outputs": [
        {
          "output_type": "stream",
          "name": "stdout",
          "text": [
            "(100, 200, 300)\n"
          ]
        }
      ]
    },
    {
      "cell_type": "code",
      "source": [
        "# Q.12 Write a code to access the second-to-last element of the tuple ('red', 'green', 'blue', 'yellow').\n",
        "a = ('red', 'green', 'blue', 'yellow')\n",
        "print(a[-2])"
      ],
      "metadata": {
        "colab": {
          "base_uri": "https://localhost:8080/"
        },
        "id": "aedqU9cGH3VE",
        "outputId": "e18f31cf-32b4-4e8b-f0cf-9d74979fd98b"
      },
      "execution_count": null,
      "outputs": [
        {
          "output_type": "stream",
          "name": "stdout",
          "text": [
            "blue\n"
          ]
        }
      ]
    },
    {
      "cell_type": "code",
      "source": [
        "# Q.13 Write a code to find the minimum number in the tuple (10, 20, 5, 15).\n",
        "a = (10, 20, 5, 15)\n",
        "print(min(a))"
      ],
      "metadata": {
        "colab": {
          "base_uri": "https://localhost:8080/"
        },
        "id": "3rQIiHUIIe-f",
        "outputId": "2ece38c2-cd37-48b7-a2d2-7d2ee3d44a9a"
      },
      "execution_count": null,
      "outputs": [
        {
          "output_type": "stream",
          "name": "stdout",
          "text": [
            "5\n"
          ]
        }
      ]
    },
    {
      "cell_type": "code",
      "source": [
        "# Q.14 Write a code to find the index of the element \"cat\" in the tuple ('dog', 'cat', 'rabbit').\n",
        "a = ('dog', 'cat', 'rabbit')\n",
        "print(a.index('cat'))"
      ],
      "metadata": {
        "colab": {
          "base_uri": "https://localhost:8080/"
        },
        "id": "TXN9MaJgxiYn",
        "outputId": "55a54694-1640-462f-d29b-39a4c3942945"
      },
      "execution_count": null,
      "outputs": [
        {
          "output_type": "stream",
          "name": "stdout",
          "text": [
            "1\n"
          ]
        }
      ]
    },
    {
      "cell_type": "code",
      "source": [
        "# Q.15 Write a code to create a tuple containing three different fruits and check if \"kiwi\" is in it.\n",
        "a = ('apple', 'banana', 'orange')\n",
        "print(\"kiwi\" in a)\n",
        "b = ('apple', 'banana', 'kiwi')\n",
        "print(\"kiwi\" in b)"
      ],
      "metadata": {
        "colab": {
          "base_uri": "https://localhost:8080/"
        },
        "id": "mBYccb-Kx6YG",
        "outputId": "e4f41006-c504-45e8-fe30-d1bb7811e7ff"
      },
      "execution_count": null,
      "outputs": [
        {
          "output_type": "stream",
          "name": "stdout",
          "text": [
            "False\n",
            "True\n"
          ]
        }
      ]
    },
    {
      "cell_type": "code",
      "source": [
        "# Q.16 Write a code to create a set with the elements 'a', 'b', 'c' and print it.\n",
        "a = {'a', 'b', 'c'}\n",
        "print(a)\n"
      ],
      "metadata": {
        "colab": {
          "base_uri": "https://localhost:8080/"
        },
        "id": "8QIEnnV-ysZP",
        "outputId": "2a66dae9-0a6b-41fe-dd0e-74fea0e78dc0"
      },
      "execution_count": null,
      "outputs": [
        {
          "output_type": "stream",
          "name": "stdout",
          "text": [
            "{'a', 'b', 'c'}\n"
          ]
        }
      ]
    },
    {
      "cell_type": "code",
      "source": [
        "# Q.17 Write a code to clear all elements from the set {1, 2, 3, 4, 5}.\n",
        "a = {1, 2, 3, 4, 5}\n",
        "a.clear()\n",
        "print(a)"
      ],
      "metadata": {
        "colab": {
          "base_uri": "https://localhost:8080/"
        },
        "id": "oxQzkAjszGDS",
        "outputId": "2400cfd4-f7c7-4f49-d0da-fa138cbb7b41"
      },
      "execution_count": null,
      "outputs": [
        {
          "output_type": "stream",
          "name": "stdout",
          "text": [
            "set()\n"
          ]
        }
      ]
    },
    {
      "cell_type": "code",
      "source": [
        "# Q.18 Write a code to remove the element 4 from the set {1, 2, 3, 4}\n",
        "a = {1, 2, 3, 4}\n",
        "a.remove(4)\n",
        "print(a)\n"
      ],
      "metadata": {
        "colab": {
          "base_uri": "https://localhost:8080/"
        },
        "id": "t1TlXFKjzT0W",
        "outputId": "720369cf-69f2-40c2-986d-8de3c76c813f"
      },
      "execution_count": null,
      "outputs": [
        {
          "output_type": "stream",
          "name": "stdout",
          "text": [
            "{1, 2, 3}\n"
          ]
        }
      ]
    },
    {
      "cell_type": "code",
      "source": [
        "# Q.19 Write a code to find the union of two sets {1, 2, 3} and {3, 4, 5}.\n",
        "a = {1, 2, 3}\n",
        "b = {3, 4, 5}\n",
        "print(a.union(b))"
      ],
      "metadata": {
        "colab": {
          "base_uri": "https://localhost:8080/"
        },
        "id": "roNLQGnrzirc",
        "outputId": "f29629fd-04cc-4c80-8b7a-308609fd45a1"
      },
      "execution_count": null,
      "outputs": [
        {
          "output_type": "stream",
          "name": "stdout",
          "text": [
            "{1, 2, 3, 4, 5}\n"
          ]
        }
      ]
    },
    {
      "cell_type": "code",
      "source": [
        "# Q.20 Write a code to find the intersection of two sets {1, 2, 3} and {2, 3, 4}.\n",
        "a = {1, 2, 3}\n",
        "b = {2, 3, 4}\n",
        "print(a.intersection(b))"
      ],
      "metadata": {
        "colab": {
          "base_uri": "https://localhost:8080/"
        },
        "id": "_e0odMO5z2sb",
        "outputId": "8ae304b8-d41d-4b34-bc10-da7ad194393d"
      },
      "execution_count": null,
      "outputs": [
        {
          "output_type": "stream",
          "name": "stdout",
          "text": [
            "{2, 3}\n"
          ]
        }
      ]
    },
    {
      "cell_type": "code",
      "source": [
        "# Q.21 Write a code to create a dictionary with the keys \"name\", \"age\", and \"city\", and print it.\n",
        "a = {\"name\": \"John\", \"age\": 25, \"city\": \"New York\"}\n",
        "print(a)"
      ],
      "metadata": {
        "colab": {
          "base_uri": "https://localhost:8080/"
        },
        "id": "i8HwZ1UC0GQn",
        "outputId": "2b6dee11-8e7a-4c68-87b7-da279f7cac7a"
      },
      "execution_count": null,
      "outputs": [
        {
          "output_type": "stream",
          "name": "stdout",
          "text": [
            "{'name': 'John', 'age': 25, 'city': 'New York'}\n"
          ]
        }
      ]
    },
    {
      "cell_type": "code",
      "source": [
        "# Q.22 Write a code to add a new key-value pair \"country\":\"USA\" to the dictionary {'name':'john','age':25}.\n",
        "a = {'name':'john','age':25}\n",
        "a[\"country\"] = \"USA\"\n",
        "print(a)\n"
      ],
      "metadata": {
        "colab": {
          "base_uri": "https://localhost:8080/"
        },
        "id": "R_T2MP-S0Y5O",
        "outputId": "8986fa49-489c-4e47-d617-312667f5c45d"
      },
      "execution_count": null,
      "outputs": [
        {
          "output_type": "stream",
          "name": "stdout",
          "text": [
            "{'name': 'john', 'age': 25, 'country': 'USA'}\n"
          ]
        }
      ]
    },
    {
      "cell_type": "code",
      "source": [
        "# Q.23 Write a code to access the value associated with the key \"name\" in the dictionary {'name':'Alice', 'age':30}.\n",
        "a = {'name':'Alice', 'age':30}\n",
        "print(a[\"name\"])"
      ],
      "metadata": {
        "colab": {
          "base_uri": "https://localhost:8080/"
        },
        "id": "TMbyxVYP00EE",
        "outputId": "4ca5a239-5632-41d0-9bf6-3c10c0a18332"
      },
      "execution_count": null,
      "outputs": [
        {
          "output_type": "stream",
          "name": "stdout",
          "text": [
            "Alice\n"
          ]
        }
      ]
    },
    {
      "cell_type": "code",
      "source": [
        "# Q.24 Write a code to remove the kwy \"age\" from the dictionary {'name':'Bob','age':22,'city':'New York'}.\n",
        "a = {'name':'Bob','age':22,'city':'New York'}\n",
        "del a[\"age\"]\n",
        "print(a)"
      ],
      "metadata": {
        "colab": {
          "base_uri": "https://localhost:8080/"
        },
        "id": "tQu4B9CG1LDy",
        "outputId": "7a4ffacf-5a90-4fab-9246-849e9c7a9193"
      },
      "execution_count": null,
      "outputs": [
        {
          "output_type": "stream",
          "name": "stdout",
          "text": [
            "{'name': 'Bob', 'city': 'New York'}\n"
          ]
        }
      ]
    },
    {
      "cell_type": "code",
      "source": [
        "# Q.25 Write a code to check if the key \"city\" exists in the dictionary {'name':'Alice','city':'Paris'}.\n",
        "a = {'name':'Alice','city':'Paris'}\n",
        "print(\"city\" in a)"
      ],
      "metadata": {
        "colab": {
          "base_uri": "https://localhost:8080/"
        },
        "id": "fGZUrnm71b5v",
        "outputId": "e53fd951-73b3-4454-c7c9-cc59b45b18ac"
      },
      "execution_count": null,
      "outputs": [
        {
          "output_type": "stream",
          "name": "stdout",
          "text": [
            "True\n"
          ]
        }
      ]
    },
    {
      "cell_type": "code",
      "source": [
        "# Q.26 Write a code to create a list, a tuple, and a dictionary, and print them all.\n",
        "a = [1, 2, 3]\n",
        "b = (4, 5, 6)\n",
        "c = {\"name\": \"John\", \"age\": 25}\n",
        "print(a)\n",
        "print(b)\n",
        "print(c)\n"
      ],
      "metadata": {
        "colab": {
          "base_uri": "https://localhost:8080/"
        },
        "id": "kdQVlznb1wpk",
        "outputId": "cb497237-31a0-48f7-a490-c9f140c8d870"
      },
      "execution_count": null,
      "outputs": [
        {
          "output_type": "stream",
          "name": "stdout",
          "text": [
            "[1, 2, 3]\n",
            "(4, 5, 6)\n",
            "{'name': 'John', 'age': 25}\n"
          ]
        }
      ]
    },
    {
      "cell_type": "code",
      "source": [
        "# Q.27 Write a code to create a list of 5 random numbers between 1 and 100, sort it in ascending order, and print the result.\n",
        "import random\n",
        "a = [random.randint(1, 100) for i in range(5)]\n",
        "a.sort()\n",
        "print(a)"
      ],
      "metadata": {
        "colab": {
          "base_uri": "https://localhost:8080/"
        },
        "id": "OvfzF-C82AdP",
        "outputId": "385a79e0-65ec-4004-840f-c6db3046ecfa"
      },
      "execution_count": null,
      "outputs": [
        {
          "output_type": "stream",
          "name": "stdout",
          "text": [
            "[17, 23, 25, 37, 70]\n"
          ]
        }
      ]
    },
    {
      "cell_type": "code",
      "source": [
        "# Q.28 Write a code to create a list with strings and print the elements at the third index.\n",
        "a = [\"apple\", \"banana\", \"orange\", \"grape\", \"kiwi\"]\n",
        "print(a[3])"
      ],
      "metadata": {
        "colab": {
          "base_uri": "https://localhost:8080/"
        },
        "id": "t6tOrVhl2dV1",
        "outputId": "29b6d8da-d27b-40bd-b247-f476ebbc86fe"
      },
      "execution_count": null,
      "outputs": [
        {
          "output_type": "stream",
          "name": "stdout",
          "text": [
            "grape\n"
          ]
        }
      ]
    },
    {
      "cell_type": "code",
      "source": [
        "# Q.29 Write a code to combine two dictionaries into one and print the result.\n",
        "a = {\"name\": \"John\", \"age\": 25}\n",
        "b = {\"city\": \"New York\", \"country\": \"USA\"}\n",
        "a.update(b)\n",
        "print(a)"
      ],
      "metadata": {
        "colab": {
          "base_uri": "https://localhost:8080/"
        },
        "id": "FzIBSagN2sVO",
        "outputId": "57e74cd0-d8b1-470e-ed94-568e23fc2fc3"
      },
      "execution_count": null,
      "outputs": [
        {
          "output_type": "stream",
          "name": "stdout",
          "text": [
            "{'name': 'John', 'age': 25, 'city': 'New York', 'country': 'USA'}\n"
          ]
        }
      ]
    },
    {
      "cell_type": "code",
      "source": [
        "# Q.30 Write a code to convert a list of strings into a set.\n",
        "a = [\"apple\", \"banana\", \"orange\", \"grape\", \"kiwi\"]\n",
        "b = set(a)\n",
        "print(b)"
      ],
      "metadata": {
        "colab": {
          "base_uri": "https://localhost:8080/"
        },
        "id": "PYGhJ_We3DPR",
        "outputId": "1b6fa62f-73b1-429e-fc0b-93cb898af631"
      },
      "execution_count": null,
      "outputs": [
        {
          "output_type": "stream",
          "name": "stdout",
          "text": [
            "{'banana', 'apple', 'orange', 'grape', 'kiwi'}\n"
          ]
        }
      ]
    }
  ]
}